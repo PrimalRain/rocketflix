{
  "nbformat": 4,
  "nbformat_minor": 0,
  "metadata": {
    "colab": {
      "provenance": [],
      "authorship_tag": "ABX9TyNphzEbe+W2ZvNCENRvNU9W",
      "include_colab_link": true
    },
    "kernelspec": {
      "name": "python3",
      "display_name": "Python 3"
    },
    "language_info": {
      "name": "python"
    }
  },
  "cells": [
    {
      "cell_type": "markdown",
      "metadata": {
        "id": "view-in-github",
        "colab_type": "text"
      },
      "source": [
        "<a href=\"https://colab.research.google.com/github/PrimalRain/rocketflix/blob/master/Poisson-9.5.ipynb\" target=\"_parent\"><img src=\"https://colab.research.google.com/assets/colab-badge.svg\" alt=\"Open In Colab\"/></a>"
      ]
    },
    {
      "cell_type": "code",
      "execution_count": 9,
      "metadata": {
        "colab": {
          "base_uri": "https://localhost:8080/"
        },
        "id": "YHZIQ9OjsruJ",
        "outputId": "043b68e9-d5b1-4bdc-96fe-481503d6e55c"
      },
      "outputs": [
        {
          "output_type": "stream",
          "name": "stdout",
          "text": [
            "Probabilidade de over 9.5 games: 43.65%\n",
            "Probabilidade de under 9.5 games: 56.35%\n"
          ]
        }
      ],
      "source": [
        "from math import exp\n",
        "\n",
        "# Inputs\n",
        "quadra = 'saibro'\n",
        "odds_over = 1.80\n",
        "odds_under = 1.87\n",
        "odds_jogador_A = 1.62\n",
        "odds_jogador_B = 2.12\n",
        "posicao_ATP_A = 175\n",
        "posicao_ATP_B = 248\n",
        "jogos_menos_9_5_A = 3\n",
        "jogos_menos_9_5_B = 6\n",
        "jogos_menos_9_5_quadra_A = 4\n",
        "jogos_menos_9_5_quadra_B = 6\n",
        "jogos_vencidos_A = 6\n",
        "jogos_vencidos_B = 7\n",
        "jogos_quadra_dura_vencidos_A = 6\n",
        "jogos_quadra_dura_vencidos_B = 7\n",
        "sets_vencidos_A = 15\n",
        "sets_vencidos_B = 18\n",
        "sets_perdidos_A = 11\n",
        "sets_perdidos_B = 9\n",
        "rival_posicoes_ATP_A = [59, 6, 102, 6, 154, 73, 41, 84, 41, 66]\n",
        "rival_posicoes_ATP_B = [3, 44, 73, 25, 85, 32, 3, 26, 34, 14]\n",
        "\n",
        "# Cálculo das probabilidades\n",
        "lambda_A = jogos_menos_9_5_A / 10 * (jogos_menos_9_5_quadra_A / jogos_quadra_dura_vencidos_A) * sets_vencidos_A / (sets_vencidos_A + sets_perdidos_A)\n",
        "lambda_B = jogos_menos_9_5_B / 10 * (jogos_menos_9_5_quadra_B / jogos_quadra_dura_vencidos_B) * sets_vencidos_B / (sets_vencidos_B + sets_perdidos_B)\n",
        "prob_over = 1 - exp(-(lambda_A + lambda_B))\n",
        "prob_under = 1 - prob_over\n",
        "\n",
        "# Exibição das probabilidades\n",
        "print(f'Probabilidade de over 9.5 games: {prob_over * 100:.2f}%')\n",
        "print(f'Probabilidade de under 9.5 games: {prob_under * 100:.2f}%')\n"
      ]
    }
  ]
}